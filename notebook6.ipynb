{
 "cells": [
  {
   "cell_type": "code",
   "execution_count": null,
   "metadata": {},
   "outputs": [],
   "source": [
    "import matplotlib.pyplot as plt\n",
    "import numpy as np\n",
    "\n",
    "# Generate sample data\n",
    "np.random.seed(42)\n",
    "data = [np.random.normal(0, std, 100) for std in range(1, 4)]\n",
    "\n",
    "# Create box plot\n",
    "plt.figure(figsize=(10, 6))\n",
    "plt.boxplot(data, labels=['Group 1', 'Group 2', 'Group 3'])\n",
    "plt.title('Box Plot Example')\n",
    "plt.ylabel('Values')\n",
    "plt.savefig('box_plot_example.png')\n",
    "plt.close()\n",
    "\n",
    "print(\"Box plot example has been created and saved as a PNG file.\")"
   ]
  }
 ],
 "metadata": {
  "language_info": {
   "name": "python"
  }
 },
 "nbformat": 4,
 "nbformat_minor": 2
}

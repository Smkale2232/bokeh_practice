{
 "cells": [
  {
   "cell_type": "code",
   "execution_count": 1,
   "metadata": {},
   "outputs": [
    {
     "name": "stdout",
     "output_type": "stream",
     "text": [
      "Three bar chart examples have been created and saved as PNG files.\n"
     ]
    }
   ],
   "source": [
    "import matplotlib.pyplot as plt\n",
    "import numpy as np\n",
    "\n",
    "# Example 1: Basic Bar Chart\n",
    "categories = ['A', 'B', 'C', 'D', 'E']\n",
    "values = [3, 7, 5, 2, 4]\n",
    "\n",
    "plt.figure(figsize=(10, 8))\n",
    "plt.bar(categories, values)\n",
    "plt.title(\"Basic Bar Chart\")\n",
    "plt.xlabel(\"Categories\")\n",
    "plt.ylabel(\"Values\")\n",
    "plt.savefig(\"basic_bar_chart.png\")\n",
    "plt.close()\n",
    "\n",
    "# Example 2: Bar Chart with Different Colors\n",
    "colors = ['red', 'blue', 'green', 'purple', 'orange']\n",
    "\n",
    "plt.figure(figsize=(10, 8))\n",
    "plt.bar(categories, values, color=colors)\n",
    "plt.title(\"Bar Chart with Different Colors\")\n",
    "plt.xlabel(\"Categories\")\n",
    "plt.ylabel(\"Values\")\n",
    "plt.savefig(\"colored_bar_chart.png\")\n",
    "plt.close()\n",
    "\n",
    "# Example 3: Horizontal Bar Chart\n",
    "plt.figure(figsize=(10, 8))\n",
    "plt.barh(categories, values, color='skyblue')\n",
    "plt.title(\"Horizontal Bar Chart\")\n",
    "plt.xlabel(\"Values\")\n",
    "plt.ylabel(\"Categories\")\n",
    "plt.savefig(\"horizontal_bar_chart.png\")\n",
    "plt.close()\n",
    "\n",
    "print(\"Three bar chart examples have been created and saved as PNG files.\")"
   ]
  }
 ],
 "metadata": {
  "kernelspec": {
   "display_name": "Python 3",
   "language": "python",
   "name": "python3"
  },
  "language_info": {
   "codemirror_mode": {
    "name": "ipython",
    "version": 3
   },
   "file_extension": ".py",
   "mimetype": "text/x-python",
   "name": "python",
   "nbconvert_exporter": "python",
   "pygments_lexer": "ipython3",
   "version": "3.12.3"
  }
 },
 "nbformat": 4,
 "nbformat_minor": 2
}

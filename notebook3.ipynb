{
 "cells": [
  {
   "cell_type": "code",
   "execution_count": 1,
   "metadata": {},
   "outputs": [
    {
     "name": "stdout",
     "output_type": "stream",
     "text": [
      "Three scatter plot examples have been created and saved as PNG files.\n"
     ]
    }
   ],
   "source": [
    "import matplotlib.pyplot as plt\n",
    "import numpy as np\n",
    "\n",
    "# Example 1: Basic Scatter Plot\n",
    "x1 = np.random.rand(50)\n",
    "y1 = np.random.rand(50)\n",
    "\n",
    "plt.figure(figsize=(10, 8))\n",
    "plt.scatter(x1, y1)\n",
    "plt.title(\"Basic Scatter Plot\")\n",
    "plt.xlabel(\"X-axis\")\n",
    "plt.ylabel(\"Y-axis\")\n",
    "plt.savefig(\"basic_scatter.png\")\n",
    "plt.close()\n",
    "\n",
    "# Example 2: Scatter Plot with Different Colors and Sizes\n",
    "x2 = np.random.rand(50)\n",
    "y2 = np.random.rand(50)\n",
    "colors = np.random.rand(50)\n",
    "sizes = 1000 * np.random.rand(50)\n",
    "\n",
    "plt.figure(figsize=(10, 8))\n",
    "plt.scatter(x2, y2, c=colors, s=sizes, alpha=0.5)\n",
    "plt.title(\"Scatter Plot with Different Colors and Sizes\")\n",
    "plt.xlabel(\"X-axis\")\n",
    "plt.ylabel(\"Y-axis\")\n",
    "plt.colorbar()\n",
    "plt.savefig(\"colored_sized_scatter.png\")\n",
    "plt.close()\n",
    "\n",
    "# Example 3: Scatter Plot with Multiple Groups\n",
    "x3 = np.random.randn(200)\n",
    "y3 = np.random.randn(200)\n",
    "groups = np.random.choice(['A', 'B', 'C'], 200)\n",
    "\n",
    "plt.figure(figsize=(10, 8))\n",
    "for group in ['A', 'B', 'C']:\n",
    "    mask = groups == group\n",
    "    plt.scatter(x3[mask], y3[mask], label=group)\n",
    "plt.title(\"Scatter Plot with Multiple Groups\")\n",
    "plt.xlabel(\"X-axis\")\n",
    "plt.ylabel(\"Y-axis\")\n",
    "plt.legend()\n",
    "plt.savefig(\"grouped_scatter.png\")\n",
    "plt.close()\n",
    "\n",
    "print(\"Three scatter plot examples have been created and saved as PNG files.\")"
   ]
  }
 ],
 "metadata": {
  "kernelspec": {
   "display_name": "Python 3",
   "language": "python",
   "name": "python3"
  },
  "language_info": {
   "codemirror_mode": {
    "name": "ipython",
    "version": 3
   },
   "file_extension": ".py",
   "mimetype": "text/x-python",
   "name": "python",
   "nbconvert_exporter": "python",
   "pygments_lexer": "ipython3",
   "version": "3.12.3"
  }
 },
 "nbformat": 4,
 "nbformat_minor": 2
}

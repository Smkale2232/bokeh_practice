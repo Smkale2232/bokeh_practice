{
 "cells": [
  {
   "cell_type": "code",
   "execution_count": 1,
   "metadata": {},
   "outputs": [
    {
     "name": "stdout",
     "output_type": "stream",
     "text": [
      "Area plot example has been created and saved as a PNG file.\n"
     ]
    }
   ],
   "source": [
    "import matplotlib.pyplot as plt\n",
    "import numpy as np\n",
    "\n",
    "# Generate sample data\n",
    "x = np.linspace(0, 10, 100)\n",
    "y1 = np.sin(x)\n",
    "y2 = np.cos(x)\n",
    "y3 = np.tan(x)\n",
    "\n",
    "# Create area plot\n",
    "plt.figure(figsize=(12, 6))\n",
    "plt.fill_between(x, y1, label='sin(x)', alpha=0.5)\n",
    "plt.fill_between(x, y2, label='cos(x)', alpha=0.5)\n",
    "plt.fill_between(x, y3, where=(y3 < 1) & (y3 > -1), label='tan(x)', alpha=0.5)\n",
    "\n",
    "plt.title('Area Plot Example')\n",
    "plt.xlabel('X-axis')\n",
    "plt.ylabel('Y-axis')\n",
    "plt.legend()\n",
    "plt.grid(True)\n",
    "\n",
    "# Limit y-axis for better visualization\n",
    "plt.ylim(-2, 2)\n",
    "\n",
    "plt.savefig('area_plot_example.png')\n",
    "plt.close()\n",
    "\n",
    "print(\"Area plot example has been created and saved as a PNG file.\")"
   ]
  }
 ],
 "metadata": {
  "kernelspec": {
   "display_name": "Python 3",
   "language": "python",
   "name": "python3"
  },
  "language_info": {
   "codemirror_mode": {
    "name": "ipython",
    "version": 3
   },
   "file_extension": ".py",
   "mimetype": "text/x-python",
   "name": "python",
   "nbconvert_exporter": "python",
   "pygments_lexer": "ipython3",
   "version": "3.12.3"
  }
 },
 "nbformat": 4,
 "nbformat_minor": 2
}

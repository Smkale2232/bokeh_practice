{
 "cells": [
  {
   "cell_type": "code",
   "execution_count": 4,
   "metadata": {},
   "outputs": [
    {
     "name": "stderr",
     "output_type": "stream",
     "text": [
      "WARNING:bokeh.embed.util:\n",
      "You are generating standalone HTML/JS output, but trying to use real Python\n",
      "callbacks (i.e. with on_change or on_event). This combination cannot work.\n",
      "\n",
      "Only JavaScript callbacks may be used with standalone output. For more\n",
      "information on JavaScript callbacks with Bokeh, see:\n",
      "\n",
      "    https://docs.bokeh.org/en/latest/docs/user_guide/interaction/js_callbacks.html\n",
      "\n",
      "Alternatively, to use real Python callbacks, a Bokeh server application may\n",
      "be used. For more information on building and running Bokeh applications, see:\n",
      "\n",
      "    https://docs.bokeh.org/en/latest/docs/user_guide/server.html\n",
      "\n"
     ]
    },
    {
     "data": {
      "text/html": [
       "\n",
       "  <div id=\"a636c423-34ca-4549-9be4-03f555b00b2e\" data-root-id=\"p1144\" style=\"display: contents;\"></div>\n"
      ]
     },
     "metadata": {},
     "output_type": "display_data"
    },
    {
     "data": {
      "application/javascript": "(function(root) {\n  function embed_document(root) {\n  const docs_json = {\"1a98b029-f018-4c92-a7f4-79b70ef2b83a\":{\"version\":\"3.5.1\",\"title\":\"Bokeh Application\",\"roots\":[{\"type\":\"object\",\"name\":\"Column\",\"id\":\"p1144\",\"attributes\":{\"children\":[{\"type\":\"object\",\"name\":\"Figure\",\"id\":\"p1007\",\"attributes\":{\"x_range\":{\"type\":\"object\",\"name\":\"DataRange1d\",\"id\":\"p1008\"},\"y_range\":{\"type\":\"object\",\"name\":\"DataRange1d\",\"id\":\"p1009\"},\"x_scale\":{\"type\":\"object\",\"name\":\"LinearScale\",\"id\":\"p1017\"},\"y_scale\":{\"type\":\"object\",\"name\":\"LinearScale\",\"id\":\"p1018\"},\"title\":{\"type\":\"object\",\"name\":\"Title\",\"id\":\"p1010\",\"attributes\":{\"text\":\"Scatter Plot Example\"}},\"renderers\":[{\"type\":\"object\",\"name\":\"GlyphRenderer\",\"id\":\"p1048\",\"attributes\":{\"data_source\":{\"type\":\"object\",\"name\":\"ColumnDataSource\",\"id\":\"p1042\",\"attributes\":{\"selected\":{\"type\":\"object\",\"name\":\"Selection\",\"id\":\"p1043\",\"attributes\":{\"indices\":[],\"line_indices\":[]}},\"selection_policy\":{\"type\":\"object\",\"name\":\"UnionRenderers\",\"id\":\"p1044\"},\"data\":{\"type\":\"map\",\"entries\":[[\"x\",{\"type\":\"ndarray\",\"array\":{\"type\":\"bytes\",\"data\":\"LGce/R4v0z8uUfvPfN7vP/Epnh5IHe0/F7Q8g5cr5D+EbxfZqQ3KP3ARhBYqCtQ/LOnmr6nAzD+cWkMehZXBPxwWQOIxJOc/5F+5SGZa5z8k2mc95i7MP8g2xXVk67U/UsqRUlYT1D9fXQSZAd7vP27NIYXD9Oc/QECySL7s2D/4dVDsi53rPzBrsE+S3rM/DSy2b66l5z+7UNmRDGvqP730O+7rNec/A8zDwri+5T+mCIQnnrjsPxO7eqh/6ec/4IRZqB9X3T8CBIlMTqXUPwCwxUX2ats/0LwsP9EWsD/ZVYLm6XTsPwtWTgMH8eU/So906r990T+kL8ztr8XNP77roCKps+4/KNbB8fI7sz9I69LmEn3sPyhh2j5NTbI/6MS2cAdi2z9oEly+SU+8P//f6rQe8eI/VFL/AEqR3D+hQKU/d33oP/7ZHGn/k94/dgJnH6Eb0D8qu0nXp7foP8ABzWJEcZg/Fpa+RqB65D+qoQDqJsDRP3fGa9OZyes/CLUlMjHXyD+cpo+YqpziP6r+KTnwbNM/xbZ8rMWc5z8kLj2GEGDAP5CjKqvwtqk/lCVevQvD1D8XS8Rm4e7mP3xBs1zeAOQ/+jeuf4/F3D9cO3W8XqnjP0AsNrZThdY/QEmgYKh2iz8kiPcGNm7UP8QKxPj9Aek/5U6zHTK87j/geKfl3IyxP4DtDYCLo3s/+u9vUt814j9gQ0M9M3q7P9R0c3dZdto/2D48kQI06D+jEK4kB+3lP3jj1dGefOs/BGggQOc11D9nXaPx9EziPwuEMGuIPu4/8GWlPR81vj+U3gRFKxzgP2AS6+/ijco/MFk6mLjitD9YwG+wg9+yP94SopWlR+k/3KFAaBRN0T99k7q4R2HvPxRVyCixN+A/WZJ9OUNr4z9H09Cd2DfvPyAfVX09Z84/hu0DaYnc6j/UDtuMCTzIP2LS3rkPdus/kxkAGXtV7z9F2VEfy1rgP7XAn8/dMek/qKyzGQujtz/QVJxDlHzvP/s8ePtia+o/etPMH2Qb2T+ge6O0jnTGP/WjEV9X3u0/GB+DAWeg6D8=\"},\"shape\":[100],\"dtype\":\"float64\",\"order\":\"little\"}],[\"y\",{\"type\":\"ndarray\",\"array\":{\"type\":\"bytes\",\"data\":\"NBb3mRxm0z+KP+efquDeP+LwvKf7j+E/5oEOVqJC6T8QEsNQcn7RP6f3cXhgNOg/9C4bOutxzj+cdt6rf9frP7gEy8EcMrQ/YDKcpOUK6z/qPxFUIMfVP7teA5uArO8/iym9ip9V4D8YLhAkC8DdP675mbRtPuw/D9oarxom5z/A3rW63ZuZPx6bN6AUIOY/7smTk6BI4T8DdQWcCtfpP2aLPjBHGt0/4NYaJQFe1D8i//wjEebpP1OVCrQ5jug/jv72YWkB5z+AKBfwO8+lPxd0NQL1lOM/Xt1BS+dv2z8shg6y/tnZP5rd0TXv6tY/cJFR4dhh7j+EceG2xJHWP44dSHohHdI/L205CCkE7z/I0dP6+NTGP8+fbhwGp+s/HZokvID14z8JbjfRAuLkP4yD40gRXe4/4O0OMKTzoz8fFOZkEP3rP6aLzMBdJtY/0vNz5R8V1z/uyeKpMebfP+0pNA/ixO8/G9k0mv2I5D8GzEDvyUPQP9PY2Tunwe0/j/xPvQLp4T/fEp1dOR7iP/AhfKmE9r4/IGgM7wEkwj+nDRhI45jgP1jV5aYQub0/PEYSOlFz2T+LKc9m2BHmP5KMvw/h8tA/kb2YqCRD4D97Vgm2haPhP7CKKgSDwbA/G0E7PKNt4z9A5CEs1eKIP6zPlO0rHuw/uI88qv0x2j9Ubgm6tLbOP+xUvOGCYes//X2/Ljup5T/cxATCdx7QP6zhu9DByOo/tm0Q/rTa6T8+ra6Qz6jeP1hnw3ZWp7s/1UVM2vAp4z84aqkcIE22P4AqQSPOM6c/wmPnhCss7D8fwEXc48vrP6pq3Oyv09U/QHt2rmDNnz9VPSysE8XhP7LD4EZ7Z9g/f8r2Vh6E4D/F59vJeNzuP56eXbWt99s/QExQEYZLlD9QC/0jKSPAP1BMPo1+xbA/mKb39MXK0T/ZxkovA1/gP9zUyxusJ8s/wCJdeIAaqD/GhXJohQTYPyDzZ3SQWLY/kGOSDRfs0j86U4BrWYDRPwD9X6VEfZ8/zJx+IJuOxj/1MNfU6drrP96lzkLxANo/Abud+uDF4T8=\"},\"shape\":[100],\"dtype\":\"float64\",\"order\":\"little\"}]]}}},\"view\":{\"type\":\"object\",\"name\":\"CDSView\",\"id\":\"p1049\",\"attributes\":{\"filter\":{\"type\":\"object\",\"name\":\"AllIndices\",\"id\":\"p1050\"}}},\"glyph\":{\"type\":\"object\",\"name\":\"Scatter\",\"id\":\"p1045\",\"attributes\":{\"x\":{\"type\":\"field\",\"field\":\"x\"},\"y\":{\"type\":\"field\",\"field\":\"y\"},\"size\":{\"type\":\"value\",\"value\":10},\"line_color\":{\"type\":\"value\",\"value\":\"navy\"},\"line_alpha\":{\"type\":\"value\",\"value\":0.5},\"fill_color\":{\"type\":\"value\",\"value\":\"navy\"},\"fill_alpha\":{\"type\":\"value\",\"value\":0.5},\"hatch_color\":{\"type\":\"value\",\"value\":\"navy\"},\"hatch_alpha\":{\"type\":\"value\",\"value\":0.5}}},\"nonselection_glyph\":{\"type\":\"object\",\"name\":\"Scatter\",\"id\":\"p1046\",\"attributes\":{\"x\":{\"type\":\"field\",\"field\":\"x\"},\"y\":{\"type\":\"field\",\"field\":\"y\"},\"size\":{\"type\":\"value\",\"value\":10},\"line_color\":{\"type\":\"value\",\"value\":\"navy\"},\"line_alpha\":{\"type\":\"value\",\"value\":0.1},\"fill_color\":{\"type\":\"value\",\"value\":\"navy\"},\"fill_alpha\":{\"type\":\"value\",\"value\":0.1},\"hatch_color\":{\"type\":\"value\",\"value\":\"navy\"},\"hatch_alpha\":{\"type\":\"value\",\"value\":0.1}}},\"muted_glyph\":{\"type\":\"object\",\"name\":\"Scatter\",\"id\":\"p1047\",\"attributes\":{\"x\":{\"type\":\"field\",\"field\":\"x\"},\"y\":{\"type\":\"field\",\"field\":\"y\"},\"size\":{\"type\":\"value\",\"value\":10},\"line_color\":{\"type\":\"value\",\"value\":\"navy\"},\"line_alpha\":{\"type\":\"value\",\"value\":0.2},\"fill_color\":{\"type\":\"value\",\"value\":\"navy\"},\"fill_alpha\":{\"type\":\"value\",\"value\":0.2},\"hatch_color\":{\"type\":\"value\",\"value\":\"navy\"},\"hatch_alpha\":{\"type\":\"value\",\"value\":0.2}}}}}],\"toolbar\":{\"type\":\"object\",\"name\":\"Toolbar\",\"id\":\"p1016\",\"attributes\":{\"tools\":[{\"type\":\"object\",\"name\":\"PanTool\",\"id\":\"p1029\"},{\"type\":\"object\",\"name\":\"WheelZoomTool\",\"id\":\"p1030\",\"attributes\":{\"renderers\":\"auto\"}},{\"type\":\"object\",\"name\":\"BoxZoomTool\",\"id\":\"p1031\",\"attributes\":{\"overlay\":{\"type\":\"object\",\"name\":\"BoxAnnotation\",\"id\":\"p1032\",\"attributes\":{\"syncable\":false,\"line_color\":\"black\",\"line_alpha\":1.0,\"line_width\":2,\"line_dash\":[4,4],\"fill_color\":\"lightgrey\",\"fill_alpha\":0.5,\"level\":\"overlay\",\"visible\":false,\"left\":{\"type\":\"number\",\"value\":\"nan\"},\"right\":{\"type\":\"number\",\"value\":\"nan\"},\"top\":{\"type\":\"number\",\"value\":\"nan\"},\"bottom\":{\"type\":\"number\",\"value\":\"nan\"},\"left_units\":\"canvas\",\"right_units\":\"canvas\",\"top_units\":\"canvas\",\"bottom_units\":\"canvas\",\"handles\":{\"type\":\"object\",\"name\":\"BoxInteractionHandles\",\"id\":\"p1038\",\"attributes\":{\"all\":{\"type\":\"object\",\"name\":\"AreaVisuals\",\"id\":\"p1037\",\"attributes\":{\"fill_color\":\"white\",\"hover_fill_color\":\"lightgray\"}}}}}}}},{\"type\":\"object\",\"name\":\"SaveTool\",\"id\":\"p1039\"},{\"type\":\"object\",\"name\":\"ResetTool\",\"id\":\"p1040\"},{\"type\":\"object\",\"name\":\"HelpTool\",\"id\":\"p1041\"}]}},\"left\":[{\"type\":\"object\",\"name\":\"LinearAxis\",\"id\":\"p1024\",\"attributes\":{\"ticker\":{\"type\":\"object\",\"name\":\"BasicTicker\",\"id\":\"p1025\",\"attributes\":{\"mantissas\":[1,2,5]}},\"formatter\":{\"type\":\"object\",\"name\":\"BasicTickFormatter\",\"id\":\"p1026\"},\"axis_label\":\"y\",\"major_label_policy\":{\"type\":\"object\",\"name\":\"AllLabels\",\"id\":\"p1027\"}}}],\"below\":[{\"type\":\"object\",\"name\":\"LinearAxis\",\"id\":\"p1019\",\"attributes\":{\"ticker\":{\"type\":\"object\",\"name\":\"BasicTicker\",\"id\":\"p1020\",\"attributes\":{\"mantissas\":[1,2,5]}},\"formatter\":{\"type\":\"object\",\"name\":\"BasicTickFormatter\",\"id\":\"p1021\"},\"axis_label\":\"x\",\"major_label_policy\":{\"type\":\"object\",\"name\":\"AllLabels\",\"id\":\"p1022\"}}}],\"center\":[{\"type\":\"object\",\"name\":\"Grid\",\"id\":\"p1023\",\"attributes\":{\"axis\":{\"id\":\"p1019\"}}},{\"type\":\"object\",\"name\":\"Grid\",\"id\":\"p1028\",\"attributes\":{\"dimension\":1,\"axis\":{\"id\":\"p1024\"}}}]}},{\"type\":\"object\",\"name\":\"Figure\",\"id\":\"p1051\",\"attributes\":{\"x_range\":{\"type\":\"object\",\"name\":\"FactorRange\",\"id\":\"p1061\",\"attributes\":{\"factors\":[\"A\",\"B\",\"C\",\"D\",\"E\"]}},\"y_range\":{\"type\":\"object\",\"name\":\"DataRange1d\",\"id\":\"p1053\"},\"x_scale\":{\"type\":\"object\",\"name\":\"CategoricalScale\",\"id\":\"p1062\"},\"y_scale\":{\"type\":\"object\",\"name\":\"LinearScale\",\"id\":\"p1063\"},\"title\":{\"type\":\"object\",\"name\":\"Title\",\"id\":\"p1054\",\"attributes\":{\"text\":\"Bar Chart Example\"}},\"renderers\":[{\"type\":\"object\",\"name\":\"GlyphRenderer\",\"id\":\"p1093\",\"attributes\":{\"data_source\":{\"type\":\"object\",\"name\":\"ColumnDataSource\",\"id\":\"p1087\",\"attributes\":{\"selected\":{\"type\":\"object\",\"name\":\"Selection\",\"id\":\"p1088\",\"attributes\":{\"indices\":[],\"line_indices\":[]}},\"selection_policy\":{\"type\":\"object\",\"name\":\"UnionRenderers\",\"id\":\"p1089\"},\"data\":{\"type\":\"map\",\"entries\":[[\"x\",[\"A\",\"B\",\"C\",\"D\",\"E\"]],[\"top\",[3,7,8,5,2]]]}}},\"view\":{\"type\":\"object\",\"name\":\"CDSView\",\"id\":\"p1094\",\"attributes\":{\"filter\":{\"type\":\"object\",\"name\":\"AllIndices\",\"id\":\"p1095\"}}},\"glyph\":{\"type\":\"object\",\"name\":\"VBar\",\"id\":\"p1090\",\"attributes\":{\"x\":{\"type\":\"field\",\"field\":\"x\"},\"width\":{\"type\":\"value\",\"value\":0.5},\"top\":{\"type\":\"field\",\"field\":\"top\"},\"line_color\":{\"type\":\"value\",\"value\":\"firebrick\"},\"fill_color\":{\"type\":\"value\",\"value\":\"firebrick\"},\"hatch_color\":{\"type\":\"value\",\"value\":\"firebrick\"}}},\"nonselection_glyph\":{\"type\":\"object\",\"name\":\"VBar\",\"id\":\"p1091\",\"attributes\":{\"x\":{\"type\":\"field\",\"field\":\"x\"},\"width\":{\"type\":\"value\",\"value\":0.5},\"top\":{\"type\":\"field\",\"field\":\"top\"},\"line_color\":{\"type\":\"value\",\"value\":\"firebrick\"},\"line_alpha\":{\"type\":\"value\",\"value\":0.1},\"fill_color\":{\"type\":\"value\",\"value\":\"firebrick\"},\"fill_alpha\":{\"type\":\"value\",\"value\":0.1},\"hatch_color\":{\"type\":\"value\",\"value\":\"firebrick\"},\"hatch_alpha\":{\"type\":\"value\",\"value\":0.1}}},\"muted_glyph\":{\"type\":\"object\",\"name\":\"VBar\",\"id\":\"p1092\",\"attributes\":{\"x\":{\"type\":\"field\",\"field\":\"x\"},\"width\":{\"type\":\"value\",\"value\":0.5},\"top\":{\"type\":\"field\",\"field\":\"top\"},\"line_color\":{\"type\":\"value\",\"value\":\"firebrick\"},\"line_alpha\":{\"type\":\"value\",\"value\":0.2},\"fill_color\":{\"type\":\"value\",\"value\":\"firebrick\"},\"fill_alpha\":{\"type\":\"value\",\"value\":0.2},\"hatch_color\":{\"type\":\"value\",\"value\":\"firebrick\"},\"hatch_alpha\":{\"type\":\"value\",\"value\":0.2}}}}}],\"toolbar\":{\"type\":\"object\",\"name\":\"Toolbar\",\"id\":\"p1060\",\"attributes\":{\"tools\":[{\"type\":\"object\",\"name\":\"PanTool\",\"id\":\"p1074\"},{\"type\":\"object\",\"name\":\"WheelZoomTool\",\"id\":\"p1075\",\"attributes\":{\"renderers\":\"auto\"}},{\"type\":\"object\",\"name\":\"BoxZoomTool\",\"id\":\"p1076\",\"attributes\":{\"overlay\":{\"type\":\"object\",\"name\":\"BoxAnnotation\",\"id\":\"p1077\",\"attributes\":{\"syncable\":false,\"line_color\":\"black\",\"line_alpha\":1.0,\"line_width\":2,\"line_dash\":[4,4],\"fill_color\":\"lightgrey\",\"fill_alpha\":0.5,\"level\":\"overlay\",\"visible\":false,\"left\":{\"type\":\"number\",\"value\":\"nan\"},\"right\":{\"type\":\"number\",\"value\":\"nan\"},\"top\":{\"type\":\"number\",\"value\":\"nan\"},\"bottom\":{\"type\":\"number\",\"value\":\"nan\"},\"left_units\":\"canvas\",\"right_units\":\"canvas\",\"top_units\":\"canvas\",\"bottom_units\":\"canvas\",\"handles\":{\"type\":\"object\",\"name\":\"BoxInteractionHandles\",\"id\":\"p1083\",\"attributes\":{\"all\":{\"type\":\"object\",\"name\":\"AreaVisuals\",\"id\":\"p1082\",\"attributes\":{\"fill_color\":\"white\",\"hover_fill_color\":\"lightgray\"}}}}}}}},{\"type\":\"object\",\"name\":\"SaveTool\",\"id\":\"p1084\"},{\"type\":\"object\",\"name\":\"ResetTool\",\"id\":\"p1085\"},{\"type\":\"object\",\"name\":\"HelpTool\",\"id\":\"p1086\"}]}},\"left\":[{\"type\":\"object\",\"name\":\"LinearAxis\",\"id\":\"p1069\",\"attributes\":{\"ticker\":{\"type\":\"object\",\"name\":\"BasicTicker\",\"id\":\"p1070\",\"attributes\":{\"mantissas\":[1,2,5]}},\"formatter\":{\"type\":\"object\",\"name\":\"BasicTickFormatter\",\"id\":\"p1071\"},\"axis_label\":\"Value\",\"major_label_policy\":{\"type\":\"object\",\"name\":\"AllLabels\",\"id\":\"p1072\"}}}],\"below\":[{\"type\":\"object\",\"name\":\"CategoricalAxis\",\"id\":\"p1064\",\"attributes\":{\"ticker\":{\"type\":\"object\",\"name\":\"CategoricalTicker\",\"id\":\"p1065\"},\"formatter\":{\"type\":\"object\",\"name\":\"CategoricalTickFormatter\",\"id\":\"p1066\"},\"axis_label\":\"Category\",\"major_label_policy\":{\"type\":\"object\",\"name\":\"AllLabels\",\"id\":\"p1067\"}}}],\"center\":[{\"type\":\"object\",\"name\":\"Grid\",\"id\":\"p1068\",\"attributes\":{\"axis\":{\"id\":\"p1064\"}}},{\"type\":\"object\",\"name\":\"Grid\",\"id\":\"p1073\",\"attributes\":{\"dimension\":1,\"axis\":{\"id\":\"p1069\"}}}]}},{\"type\":\"object\",\"name\":\"Figure\",\"id\":\"p1096\",\"attributes\":{\"x_range\":{\"type\":\"object\",\"name\":\"DataRange1d\",\"id\":\"p1097\"},\"y_range\":{\"type\":\"object\",\"name\":\"DataRange1d\",\"id\":\"p1098\"},\"x_scale\":{\"type\":\"object\",\"name\":\"LinearScale\",\"id\":\"p1106\"},\"y_scale\":{\"type\":\"object\",\"name\":\"LinearScale\",\"id\":\"p1107\"},\"title\":{\"type\":\"object\",\"name\":\"Title\",\"id\":\"p1099\",\"attributes\":{\"text\":\"Interactive Plot Example\"}},\"renderers\":[{\"type\":\"object\",\"name\":\"GlyphRenderer\",\"id\":\"p1137\",\"attributes\":{\"data_source\":{\"type\":\"object\",\"name\":\"ColumnDataSource\",\"id\":\"p1131\",\"attributes\":{\"selected\":{\"type\":\"object\",\"name\":\"Selection\",\"id\":\"p1132\",\"attributes\":{\"indices\":[],\"line_indices\":[]}},\"selection_policy\":{\"type\":\"object\",\"name\":\"UnionRenderers\",\"id\":\"p1133\"},\"data\":{\"type\":\"map\",\"entries\":[[\"x\",{\"type\":\"ndarray\",\"array\":{\"type\":\"bytes\",\"data\":\"AAAAAAAAAACBhJ9ciLqpP4GEn1yIurk/YaN3ReZLwz+BhJ9ciLrJP9Gy4zmVFNA/YaN3ReZL0z/xkwtRN4PWP4GEn1yIutk/EXUzaNnx3D/RsuM5lRTgPxmrrb89sOE/YaN3ReZL4z+pm0HLjufkP/GTC1E3g+Y/OYzV1t8e6D+BhJ9ciLrpP8l8aeIwVus/EXUzaNnx7D9Zbf3tgY3uP9Gy4zmVFPA/9a7IfGni8D8Zq62/PbDxPz2nkgISfvI/YaN3ReZL8z+Fn1yIuhn0P6mbQcuO5/Q/zZcmDmO19T/xkwtRN4P2PxWQ8JMLUfc/OYzV1t8e+D9diLoZtOz4P4GEn1yIuvk/pYCEn1yI+j/JfGniMFb7P+14TiUFJPw/EXUzaNnx/D81cRirrb/9P1lt/e2Bjf4/fWniMFZb/z/RsuM5lRQAQOMwVlt/ewBA9a7IfGniAEAHLTueU0kBQBmrrb89sAFAKykg4ScXAkA9p5ICEn4CQE8lBST85AJAYaN3ReZLA0BzIepm0LIDQIWfXIi6GQRAlx3PqaSABECpm0HLjucEQLsZtOx4TgVAzZcmDmO1BUDfFZkvTRwGQPGTC1E3gwZAAxJ+ciHqBkAVkPCTC1EHQCcOY7X1twdAOYzV1t8eCEBLCkj4yYUIQF2Iuhm07AhAbwYtO55TCUCBhJ9ciLoJQJMCEn5yIQpApYCEn1yICkC3/vbARu8KQMl8aeIwVgtA2/rbAxu9C0DteE4lBSQMQP/2wEbvigxAEXUzaNnxDEAj86WJw1gNQDVxGKutvw1AR++KzJcmDkBZbf3tgY0OQGvrbw9s9A5AfWniMFZbD0CP51RSQMIPQNGy4zmVFBBA2vGcSgpIEEDjMFZbf3sQQOxvD2z0rhBA9a7IfGniEED+7YGN3hURQActO55TSRFAEGz0rsh8EUAZq62/PbARQCLqZtCy4xFAKykg4ScXEkA0aNnxnEoSQD2nkgISfhJARuZLE4exEkBPJQUk/OQSQFhkvjRxGBNAYaN3ReZLE0Bq4jBWW38TQHMh6mbQshNAfGCjd0XmE0CFn1yIuhkUQI7eFZkvTRRAlx3PqaSAFECgXIi6GbQUQKmbQcuO5xRAstr62wMbFUC7GbTseE4VQMRYbf3tgRVAzZcmDmO1FUDW1t8e2OgVQN8VmS9NHBZA6FRSQMJPFkDxkwtRN4MWQPrSxGGsthZAAxJ+ciHqFkAMUTeDlh0XQBWQ8JMLURdAHs+ppICEF0AnDmO19bcXQDBNHMZq6xdAOYzV1t8eGEBCy47nVFIYQEsKSPjJhRhAVEkBCT+5GEBdiLoZtOwYQGbHcyopIBlAbwYtO55TGUB4ReZLE4cZQIGEn1yIuhlAisNYbf3tGUCTAhJ+ciEaQJxBy47nVBpApYCEn1yIGkCuvz2w0bsaQLf+9sBG7xpAwD2w0bsiG0DJfGniMFYbQNK7IvOliRtA2/rbAxu9G0DkOZUUkPAbQO14TiUFJBxA9rcHNnpXHED/9sBG74ocQAg2eldkvhxAEXUzaNnxHEAatOx4TiUdQCPzpYnDWB1ALDJfmjiMHUA1cRirrb8dQD6w0bsi8x1AR++KzJcmHkBQLkTdDFoeQFlt/e2BjR5AYqy2/vbAHkBr628PbPQeQHQqKSDhJx9AfWniMFZbH0CGqJtBy44fQI/nVFJAwh9AmCYOY7X1H0DRsuM5lRQgQFVSQMJPLiBA2vGcSgpIIEBekfnSxGEgQOMwVlt/eyBAZ9Cy4zmVIEDsbw9s9K4gQHAPbPSuyCBA9a7IfGniIEB5TiUFJPwgQP7tgY3eFSFAgo3eFZkvIUAHLTueU0khQIvMlyYOYyFAEGz0rsh8IUCUC1E3g5YhQBmrrb89sCFAnUoKSPjJIUAi6mbQsuMhQKaJw1ht/SFAKykg4ScXIkCvyHxp4jAiQDRo2fGcSiJAuAc2eldkIkA9p5ICEn4iQMFG74rMlyJARuZLE4exIkDKhaibQcsiQE8lBST85CJA08RhrLb+IkBYZL40cRgjQNwDG70rMiNAYaN3ReZLI0DlQtTNoGUjQGriMFZbfyNA7oGN3hWZI0BzIepm0LIjQPfARu+KzCNAfGCjd0XmI0AAAAAAAAAkQA==\"},\"shape\":[200],\"dtype\":\"float64\",\"order\":\"little\"}],[\"y\",{\"type\":\"ndarray\",\"array\":{\"type\":\"bytes\",\"data\":\"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\"},\"shape\":[200],\"dtype\":\"float64\",\"order\":\"little\"}]]}}},\"view\":{\"type\":\"object\",\"name\":\"CDSView\",\"id\":\"p1138\",\"attributes\":{\"filter\":{\"type\":\"object\",\"name\":\"AllIndices\",\"id\":\"p1139\"}}},\"glyph\":{\"type\":\"object\",\"name\":\"Line\",\"id\":\"p1134\",\"attributes\":{\"x\":{\"type\":\"field\",\"field\":\"x\"},\"y\":{\"type\":\"field\",\"field\":\"y\"},\"line_color\":\"#1f77b4\",\"line_width\":2}},\"nonselection_glyph\":{\"type\":\"object\",\"name\":\"Line\",\"id\":\"p1135\",\"attributes\":{\"x\":{\"type\":\"field\",\"field\":\"x\"},\"y\":{\"type\":\"field\",\"field\":\"y\"},\"line_color\":\"#1f77b4\",\"line_alpha\":0.1,\"line_width\":2}},\"muted_glyph\":{\"type\":\"object\",\"name\":\"Line\",\"id\":\"p1136\",\"attributes\":{\"x\":{\"type\":\"field\",\"field\":\"x\"},\"y\":{\"type\":\"field\",\"field\":\"y\"},\"line_color\":\"#1f77b4\",\"line_alpha\":0.2,\"line_width\":2}}}}],\"toolbar\":{\"type\":\"object\",\"name\":\"Toolbar\",\"id\":\"p1105\",\"attributes\":{\"tools\":[{\"type\":\"object\",\"name\":\"PanTool\",\"id\":\"p1118\"},{\"type\":\"object\",\"name\":\"WheelZoomTool\",\"id\":\"p1119\",\"attributes\":{\"renderers\":\"auto\"}},{\"type\":\"object\",\"name\":\"BoxZoomTool\",\"id\":\"p1120\",\"attributes\":{\"overlay\":{\"type\":\"object\",\"name\":\"BoxAnnotation\",\"id\":\"p1121\",\"attributes\":{\"syncable\":false,\"line_color\":\"black\",\"line_alpha\":1.0,\"line_width\":2,\"line_dash\":[4,4],\"fill_color\":\"lightgrey\",\"fill_alpha\":0.5,\"level\":\"overlay\",\"visible\":false,\"left\":{\"type\":\"number\",\"value\":\"nan\"},\"right\":{\"type\":\"number\",\"value\":\"nan\"},\"top\":{\"type\":\"number\",\"value\":\"nan\"},\"bottom\":{\"type\":\"number\",\"value\":\"nan\"},\"left_units\":\"canvas\",\"right_units\":\"canvas\",\"top_units\":\"canvas\",\"bottom_units\":\"canvas\",\"handles\":{\"type\":\"object\",\"name\":\"BoxInteractionHandles\",\"id\":\"p1127\",\"attributes\":{\"all\":{\"type\":\"object\",\"name\":\"AreaVisuals\",\"id\":\"p1126\",\"attributes\":{\"fill_color\":\"white\",\"hover_fill_color\":\"lightgray\"}}}}}}}},{\"type\":\"object\",\"name\":\"SaveTool\",\"id\":\"p1128\"},{\"type\":\"object\",\"name\":\"ResetTool\",\"id\":\"p1129\"},{\"type\":\"object\",\"name\":\"HelpTool\",\"id\":\"p1130\"}]}},\"left\":[{\"type\":\"object\",\"name\":\"LinearAxis\",\"id\":\"p1113\",\"attributes\":{\"ticker\":{\"type\":\"object\",\"name\":\"BasicTicker\",\"id\":\"p1114\",\"attributes\":{\"mantissas\":[1,2,5]}},\"formatter\":{\"type\":\"object\",\"name\":\"BasicTickFormatter\",\"id\":\"p1115\"},\"axis_label\":\"sin(x)\",\"major_label_policy\":{\"type\":\"object\",\"name\":\"AllLabels\",\"id\":\"p1116\"}}}],\"below\":[{\"type\":\"object\",\"name\":\"LinearAxis\",\"id\":\"p1108\",\"attributes\":{\"ticker\":{\"type\":\"object\",\"name\":\"BasicTicker\",\"id\":\"p1109\",\"attributes\":{\"mantissas\":[1,2,5]}},\"formatter\":{\"type\":\"object\",\"name\":\"BasicTickFormatter\",\"id\":\"p1110\"},\"axis_label\":\"x\",\"major_label_policy\":{\"type\":\"object\",\"name\":\"AllLabels\",\"id\":\"p1111\"}}}],\"center\":[{\"type\":\"object\",\"name\":\"Grid\",\"id\":\"p1112\",\"attributes\":{\"axis\":{\"id\":\"p1108\"}}},{\"type\":\"object\",\"name\":\"Grid\",\"id\":\"p1117\",\"attributes\":{\"dimension\":1,\"axis\":{\"id\":\"p1113\"}}}]}},{\"type\":\"object\",\"name\":\"Slider\",\"id\":\"p1140\",\"attributes\":{\"title\":\"Frequency\",\"start\":0.1,\"end\":10,\"value\":1,\"step\":0.1}}]}}]}};\n  const render_items = [{\"docid\":\"1a98b029-f018-4c92-a7f4-79b70ef2b83a\",\"roots\":{\"p1144\":\"a636c423-34ca-4549-9be4-03f555b00b2e\"},\"root_ids\":[\"p1144\"]}];\n  void root.Bokeh.embed.embed_items_notebook(docs_json, render_items);\n  }\n  if (root.Bokeh !== undefined) {\n    embed_document(root);\n  } else {\n    let attempts = 0;\n    const timer = setInterval(function(root) {\n      if (root.Bokeh !== undefined) {\n        clearInterval(timer);\n        embed_document(root);\n      } else {\n        attempts++;\n        if (attempts > 100) {\n          clearInterval(timer);\n          console.log(\"Bokeh: ERROR: Unable to run BokehJS code because BokehJS library is missing\");\n        }\n      }\n    }, 10, root)\n  }\n})(window);",
      "application/vnd.bokehjs_exec.v0+json": ""
     },
     "metadata": {
      "application/vnd.bokehjs_exec.v0+json": {
       "id": "p1144"
      }
     },
     "output_type": "display_data"
    },
    {
     "name": "stderr",
     "output_type": "stream",
     "text": [
      "WARNING:bokeh.embed.util:\n",
      "You are generating standalone HTML/JS output, but trying to use real Python\n",
      "callbacks (i.e. with on_change or on_event). This combination cannot work.\n",
      "\n",
      "Only JavaScript callbacks may be used with standalone output. For more\n",
      "information on JavaScript callbacks with Bokeh, see:\n",
      "\n",
      "    https://docs.bokeh.org/en/latest/docs/user_guide/interaction/js_callbacks.html\n",
      "\n",
      "Alternatively, to use real Python callbacks, a Bokeh server application may\n",
      "be used. For more information on building and running Bokeh applications, see:\n",
      "\n",
      "    https://docs.bokeh.org/en/latest/docs/user_guide/server.html\n",
      "\n"
     ]
    },
    {
     "name": "stdout",
     "output_type": "stream",
     "text": [
      "Bokeh examples have been created and saved as 'bokeh_multiple_examples.html'.\n"
     ]
    }
   ],
   "source": [
    "from bokeh.layouts import column\n",
    "from bokeh.models import ColumnDataSource, Slider\n",
    "from bokeh.plotting import figure, show\n",
    "from bokeh.io import output_file\n",
    "import numpy as np\n",
    "\n",
    "# Example 1: Scatter Plot\n",
    "# Prepare data\n",
    "x_scatter = np.random.rand(100)\n",
    "y_scatter = np.random.rand(100)\n",
    "\n",
    "# Create a scatter plot\n",
    "scatter_plot = figure(title=\"Scatter Plot Example\", x_axis_label='x', y_axis_label='y')\n",
    "scatter_plot.scatter(x_scatter, y_scatter, size=10, color=\"navy\", alpha=0.5)\n",
    "\n",
    "# Example 2: Bar Chart\n",
    "# Prepare data\n",
    "categories = ['A', 'B', 'C', 'D', 'E']\n",
    "values = [3, 7, 8, 5, 2]\n",
    "\n",
    "# Create a bar chart\n",
    "bar_chart = figure(x_range=categories, title=\"Bar Chart Example\", x_axis_label='Category', y_axis_label='Value')\n",
    "bar_chart.vbar(x=categories, top=values, width=0.5, color=\"firebrick\")\n",
    "\n",
    "# Example 3: Interactive Plot with Widgets\n",
    "# Prepare data\n",
    "x_interactive = np.linspace(0, 10, 200)\n",
    "y_interactive = np.sin(x_interactive)\n",
    "\n",
    "# Create a new plot\n",
    "interactive_plot = figure(title=\"Interactive Plot Example\", x_axis_label='x', y_axis_label='sin(x)')\n",
    "line = interactive_plot.line(x_interactive, y_interactive, line_width=2)\n",
    "\n",
    "# Create a slider widget\n",
    "slider = Slider(start=0.1, end=10, value=1, step=0.1, title=\"Frequency\")\n",
    "\n",
    "# Define a callback function\n",
    "source = ColumnDataSource(data=dict(x=x_interactive, y=y_interactive))\n",
    "\n",
    "# Update function\n",
    "def update(attr, old, new):\n",
    "    frequency = slider.value\n",
    "    new_y = np.sin(frequency * x_interactive)\n",
    "    source.data = dict(x=x_interactive, y=new_y)\n",
    "\n",
    "# Attach the callback to the slider\n",
    "slider.on_change('value', update)\n",
    "\n",
    "# Layout the plots and widgets\n",
    "layout = column(scatter_plot, bar_chart, interactive_plot, slider)\n",
    "\n",
    "# Save the plots to an HTML file\n",
    "output_file(\"bokeh_multiple_examples.html\")\n",
    "\n",
    "# Show the plots\n",
    "show(layout)\n",
    "\n",
    "print(\"Bokeh examples have been created and saved as 'bokeh_multiple_examples.html'.\")"
   ]
  }
 ],
 "metadata": {
  "kernelspec": {
   "display_name": "Python 3",
   "language": "python",
   "name": "python3"
  },
  "language_info": {
   "codemirror_mode": {
    "name": "ipython",
    "version": 3
   },
   "file_extension": ".py",
   "mimetype": "text/x-python",
   "name": "python",
   "nbconvert_exporter": "python",
   "pygments_lexer": "ipython3",
   "version": "3.12.3"
  }
 },
 "nbformat": 4,
 "nbformat_minor": 2
}

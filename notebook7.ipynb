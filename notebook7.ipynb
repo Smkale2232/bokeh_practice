{
 "cells": [
  {
   "cell_type": "code",
   "execution_count": null,
   "metadata": {},
   "outputs": [],
   "source": [
    "import matplotlib.pyplot as plt\n",
    "import numpy as np\n",
    "import seaborn as sns\n",
    "\n",
    "# Generate sample data\n",
    "np.random.seed(42)\n",
    "data = np.random.rand(10, 10)\n",
    "\n",
    "# Create heatmap\n",
    "plt.figure(figsize=(10, 8))\n",
    "sns.heatmap(data, annot=True, cmap='YlGnBu')\n",
    "plt.title('Heatmap Example')\n",
    "plt.savefig('heatmap_example.png')\n",
    "plt.close()\n",
    "\n",
    "print(\"Heatmap example has been created and saved as a PNG file.\")"
   ]
  }
 ],
 "metadata": {
  "language_info": {
   "name": "python"
  }
 },
 "nbformat": 4,
 "nbformat_minor": 2
}

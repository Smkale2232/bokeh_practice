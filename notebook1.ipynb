{
 "cells": [
  {
   "cell_type": "code",
   "execution_count": 1,
   "metadata": {},
   "outputs": [
    {
     "name": "stdout",
     "output_type": "stream",
     "text": [
      "Bokeh plot has been created and saved as 'bokeh_example.html'.\n"
     ]
    }
   ],
   "source": [
    "from bokeh.plotting import figure, show\n",
    "from bokeh.io import output_file\n",
    "import numpy as np\n",
    "\n",
    "# Prepare some data\n",
    "x = np.linspace(0, 10, 100)\n",
    "y = np.sin(x)\n",
    "\n",
    "# Create a new plot with a title and axis labels\n",
    "p = figure(title=\"Simple Bokeh Example\", x_axis_label='x', y_axis_label='sin(x)')\n",
    "\n",
    "# Add a line renderer with legend and line thickness\n",
    "p.line(x, y, legend_label=\"sin(x)\", line_width=2)\n",
    "\n",
    "# Save the plot to an HTML file\n",
    "output_file(\"bokeh_example.html\")\n",
    "\n",
    "# Show the plot\n",
    "show(p)\n",
    "\n",
    "print(\"Bokeh plot has been created and saved as 'bokeh_example.html'.\")"
   ]
  }
 ],
 "metadata": {
  "kernelspec": {
   "display_name": "Python 3",
   "language": "python",
   "name": "python3"
  },
  "language_info": {
   "codemirror_mode": {
    "name": "ipython",
    "version": 3
   },
   "file_extension": ".py",
   "mimetype": "text/x-python",
   "name": "python",
   "nbconvert_exporter": "python",
   "pygments_lexer": "ipython3",
   "version": "3.12.3"
  }
 },
 "nbformat": 4,
 "nbformat_minor": 2
}
